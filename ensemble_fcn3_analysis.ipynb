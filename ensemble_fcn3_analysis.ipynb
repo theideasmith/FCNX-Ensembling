{
 "cells": [
  {
   "cell_type": "code",
   "execution_count": 34,
   "id": "85882a7c",
   "metadata": {},
   "outputs": [
    {
     "name": "stdout",
     "output_type": "stream",
     "text": [
      "The autoreload extension is already loaded. To reload it, use:\n",
      "  %reload_ext autoreload\n"
     ]
    },
    {
     "data": {
      "text/plain": [
       "<torch.serialization.safe_globals at 0x1087b45b0>"
      ]
     },
     "execution_count": 34,
     "metadata": {},
     "output_type": "execute_result"
    }
   ],
   "source": [
    "%load_ext autoreload\n",
    "%autoreload 2\n",
    "from simplenet import SimpleNet\n",
    "from activations import linear_activation\n",
    "import activations\n",
    "import torch\n",
    "import FCN3Network \n",
    "from neural_menagerie_fcn3 import EnsembleManager\n",
    "\n",
    "torch.serialization.add_safe_globals([SimpleNet])\n",
    "torch.serialization.add_safe_globals([torch.nn.modules.linear.Linear])\n",
    "torch.serialization.safe_globals([activations.linear_activation])\n",
    "torch.serialization.safe_globals([FCN3Network.FCN3Network])"
   ]
  },
  {
   "cell_type": "code",
   "execution_count": 35,
   "id": "76ec0932",
   "metadata": {},
   "outputs": [
    {
     "name": "stdout",
     "output_type": "stream",
     "text": [
      "3\n",
      "./Menagerie/ensemble_20250508_073440\n",
      "Loading model: 0\n",
      "Loading model: 1\n",
      "Loading model: 2\n",
      "Loading model: 3\n",
      "Loading model: 4\n",
      "Loading model: 5\n",
      "Loading model: 6\n",
      "Loading model: 7\n",
      "Loading model: 8\n",
      "Loading model: 9\n",
      "Loading model: 10\n",
      "Loading model: 11\n",
      "Loading model: 12\n",
      "Loading model: 13\n",
      "Loading model: 14\n",
      "Loading model: 15\n",
      "Loading model: 16\n",
      "Loading model: 17\n",
      "Loading model: 18\n",
      "Loading model: 19\n",
      "3\n",
      "./Menagerie/ensemble_20250508_073440\n",
      "Loading model: 3\n",
      "Loading model: 4\n",
      "Loading model: 5\n",
      "Loading model: 6\n",
      "Loading model: 7\n",
      "Loading model: 8\n",
      "Loading model: 9\n",
      "Loading model: 10\n",
      "Loading model: 11\n",
      "Loading model: 12\n",
      "Loading model: 13\n",
      "Loading model: 14\n",
      "Loading model: 15\n",
      "Loading model: 16\n",
      "Loading model: 17\n",
      "Loading model: 18\n",
      "Loading model: 19\n",
      "Loading model: 20\n",
      "Loading model: 21\n",
      "Loading model: 22\n",
      "3\n",
      "./Menagerie/ensemble_20250508_073440\n",
      "Loading model: 6\n",
      "Loading model: 7\n",
      "Loading model: 8\n",
      "Loading model: 9\n",
      "Loading model: 10\n",
      "Loading model: 11\n",
      "Loading model: 12\n",
      "Loading model: 13\n",
      "Loading model: 14\n",
      "Loading model: 15\n",
      "Loading model: 16\n",
      "Loading model: 17\n",
      "Loading model: 18\n",
      "Loading model: 19\n",
      "Loading model: 20\n",
      "Loading model: 21\n",
      "Loading model: 22\n",
      "Loading model: 23\n",
      "Loading model: 24\n",
      "Loading model: 25\n"
     ]
    }
   ],
   "source": [
    "ensembles = EnsembleManager(run_identifier='20250508_073440')\n",
    "ensembles.load_ensemble_data()"
   ]
  },
  {
   "cell_type": "code",
   "execution_count": 36,
   "id": "7aba4a83",
   "metadata": {},
   "outputs": [
    {
     "data": {
      "text/plain": [
       "{'run_identifier': '20250508_073440',\n",
       " 'num_ensembles': 20,\n",
       " 'input_dimension': 10,\n",
       " 'num_epochs': 700,\n",
       " 'num_data_points': 100,\n",
       " 'target_noise': 0.001,\n",
       " 'num_datasets': 3,\n",
       " 'weight_decay_config': {'fc1.weight': 0.00030000000000000003,\n",
       "  'fc2.weight': 0.012,\n",
       "  'fc3.weight': 0.012,\n",
       "  'fc1.bias': 0.0,\n",
       "  'fc2.bias': 0.0,\n",
       "  'fc3.bias': 0.0}}"
      ]
     },
     "execution_count": 36,
     "metadata": {},
     "output_type": "execute_result"
    }
   ],
   "source": [
    "ensembles.json_handler.load_data('training_config')"
   ]
  },
  {
   "cell_type": "code",
   "execution_count": 37,
   "id": "0445a7c4",
   "metadata": {},
   "outputs": [
    {
     "data": {
      "text/plain": [
       "60"
      ]
     },
     "execution_count": 37,
     "metadata": {},
     "output_type": "execute_result"
    }
   ],
   "source": [
    "len(ensembles.models)"
   ]
  },
  {
   "cell_type": "code",
   "execution_count": null,
   "id": "0fca9f39",
   "metadata": {},
   "outputs": [],
   "source": []
  }
 ],
 "metadata": {
  "kernelspec": {
   "display_name": "Python 3 (ipykernel)",
   "language": "python",
   "name": "python3"
  },
  "language_info": {
   "codemirror_mode": {
    "name": "ipython",
    "version": 3
   },
   "file_extension": ".py",
   "mimetype": "text/x-python",
   "name": "python",
   "nbconvert_exporter": "python",
   "pygments_lexer": "ipython3",
   "version": "3.8.10"
  }
 },
 "nbformat": 4,
 "nbformat_minor": 5
}
