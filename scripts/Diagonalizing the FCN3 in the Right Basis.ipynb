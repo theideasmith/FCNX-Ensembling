{
 "cells": [
  {
   "cell_type": "code",
   "execution_count": 6,
   "id": "838864a0-d140-433b-b001-5ec55d5fde6d",
   "metadata": {
    "scrolled": true
   },
   "outputs": [
    {
     "name": "stdout",
     "output_type": "stream",
     "text": [
      "/home/akiva\n",
      "/home/akiva/FCNX-Ensembling/Menagerie\n",
      "Attempting to load ensemble with run_identifier: FCN3_TRAIN_20250525_173242\n",
      "From Menagerie directory: /home/akiva/FCNX-Ensembling/Menagerie\n",
      "Full ensemble path: /home/akiva/FCNX-Ensembling/Menagerie/ensemble_FCN3_TRAIN_20250525_173242\n",
      "Enseble_Dir: /home/akiva/FCNX-Ensembling/Menagerie/ensemble_FCN3_TRAIN_20250525_173242\n",
      "Ensemble_dir exists\n"
     ]
    }
   ],
   "source": [
    "import sys\n",
    "import torch\n",
    "import os\n",
    "import matplotlib.pyplot as plt\n",
    "def activation(x):\n",
    "    return x\n",
    "\n",
    "\n",
    "current_dir = os.path.dirname(os.path.abspath(os.path.realpath('./')))\n",
    "parent_dir = os.path.dirname(current_dir)\n",
    "print(parent_dir)\n",
    "sys.path.append(parent_dir)\n",
    "sys.path.append(current_dir)\n",
    "from ensemble_manager import NetworksLoader, EnsembleManager\n",
    "from json_handler import JsonHandler\n",
    "import standard_hyperparams as hp\n",
    "from FCN3 import HypersphereData\n",
    "\n",
    "ABS_MENAGERIE_ROOT = os.path.abspath( './FCNX-Ensembling/Menagerie') \n",
    "hp.DEVICE='cpu'\n",
    "def update_dict_paths(config_dict):\n",
    "    \"\"\"\n",
    "    Recursively updates paths in keys of a single dictionary.\n",
    "    \"\"\"\n",
    "    updated_dict = {}\n",
    "    for key, value in config_dict.items():\n",
    "\n",
    "        new_value = value\n",
    "        # If the key is a string and starts with './Menagerie', replace it.\n",
    "        if isinstance(value, str) and value.startswith('./Menagerie'):\n",
    "            new_value = value.replace('./Menagerie', ABS_MENAGERIE_ROOT)\n",
    "\n",
    "        # If the value is a dictionary, recursively call update_dict_paths on it.\n",
    "        if isinstance(value, dict):\n",
    "            updated_dict[key] = update_dict_paths(value)\n",
    "        else:\n",
    "            updated_dict[key] = new_value\n",
    "    return updated_dict\n",
    "\n",
    "\n",
    "Menagerie_dir = os.path.join(current_dir, 'Menagerie')\n",
    "print(Menagerie_dir)\n",
    "\n",
    "# Define the specific ensemble directory you want to load\n",
    "ensemble_dir_name = 'ensemble_FCN3_TRAIN_20250525_173242'\n",
    "ensemble_full_path = os.path.join(Menagerie_dir, ensemble_dir_name)\n",
    "\n",
    "# Extract the run_identifier from the ensemble directory name\n",
    "run_identifier = ensemble_dir_name.replace('ensemble_', '')\n",
    "\n",
    "print(f\"Attempting to load ensemble with run_identifier: {run_identifier}\")\n",
    "print(f\"From Menagerie directory: {Menagerie_dir}\")\n",
    "print(f\"Full ensemble path: {ensemble_full_path}\")\n",
    "\n",
    "# Initialize EnsembleManager.\n",
    "# It will load the training_config and manifest if the directory exists.\n",
    "# Pass the run_identifier and the base menagerie directory.\n",
    "ensemble_manager = EnsembleManager(\n",
    "    run_identifier=run_identifier,\n",
    "    menagerie_dir=Menagerie_dir,\n",
    "    json_handler=JsonHandler() # Pass an instance of JsonHandler\n",
    ")\n",
    "updated_manifest = []\n",
    "\n",
    "for item_dict in ensemble_manager.training_config['manifest']:\n",
    "    updated_manifest.append(update_dict_paths(item_dict))\n",
    "ensemble_manager.training_config['manifest'] = updated_manifest\n",
    "\n",
    "\n",
    "# Check if the manifest is populated after initialization\n",
    "if not ensemble_manager.training_config.get('manifest'):\n",
    "    print(f\"Error: No manifest found in {ensemble_full_path}. Please ensure the ensemble directory and its 'training_config.json' are correctly set up, or run the dummy data creation section.\")\n",
    "    sys.exit(1)\n",
    "\n",
    "\n",
    "config = ensemble_manager.training_config\n",
    "# Dimensions for the new tensor\n",
    "num_batches_dim1 = config['num_datsets']\n",
    "num_batches_dim2 = config['num_ensembles']\n",
    "num_samples_per_network = 50\n",
    "output_feature_dim = 1 # As raw_Y is P*1, model output should be 1\n",
    "\n",
    "# Initialize the tensor to store results: networks x samples x output_dim\n",
    "# It's (3, 20, 5, 1) as requested.\n",
    "output_tensor = torch.empty(num_batches_dim1, num_batches_dim2, 1000, output_feature_dim).to(hp.DEVICE)\n",
    "output_tensor = output_tensor.reshape((60,1000,1))\n",
    "\n",
    "X = HypersphereData.sample_hypersphere(1000, 15, normalized=False).to(hp.DEVICE)"
   ]
  },
  {
   "cell_type": "code",
   "execution_count": 7,
   "id": "9b37214c-4f1a-4e0e-b3ee-33cdda7ff6d1",
   "metadata": {},
   "outputs": [
    {
     "data": {
      "text/plain": [
       "torch.Size([60, 1000, 1])"
      ]
     },
     "execution_count": 7,
     "metadata": {},
     "output_type": "execute_result"
    }
   ],
   "source": [
    "output_tensor.shape"
   ]
  },
  {
   "cell_type": "code",
   "execution_count": 8,
   "id": "14cf4095-2615-4c7b-99a0-89b52e7363d9",
   "metadata": {},
   "outputs": [
    {
     "name": "stderr",
     "output_type": "stream",
     "text": [
      "/home/akiva/FCNX-Ensembling/ensemble_manager.py:295: FutureWarning: You are using `torch.load` with `weights_only=False` (the current default value), which uses the default pickle module implicitly. It is possible to construct malicious pickle data which will execute arbitrary code during unpickling (See https://github.com/pytorch/pytorch/blob/main/SECURITY.md#untrusted-models for more details). In a future release, the default value for `weights_only` will be flipped to `True`. This limits the functions that could be executed during unpickling. Arbitrary objects will no longer be allowed to be loaded via this mode unless they are explicitly allowlisted by the user via `torch.serialization.add_safe_globals`. We recommend you start setting `weights_only=True` for any use case where you don't have full control of the loaded file. Please open an issue on GitHub for any issues related to this experimental feature.\n",
      "  data = torch.load(raw_x_path).to(hp.DEVICE)\n",
      "/home/akiva/FCNX-Ensembling/ensemble_manager.py:296: FutureWarning: You are using `torch.load` with `weights_only=False` (the current default value), which uses the default pickle module implicitly. It is possible to construct malicious pickle data which will execute arbitrary code during unpickling (See https://github.com/pytorch/pytorch/blob/main/SECURITY.md#untrusted-models for more details). In a future release, the default value for `weights_only` will be flipped to `True`. This limits the functions that could be executed during unpickling. Arbitrary objects will no longer be allowed to be loaded via this mode unless they are explicitly allowlisted by the user via `torch.serialization.add_safe_globals`. We recommend you start setting `weights_only=True` for any use case where you don't have full control of the loaded file. Please open an issue on GitHub for any issues related to this experimental feature.\n",
      "  target = torch.load(raw_y_path).to(hp.DEVICE)\n"
     ]
    }
   ],
   "source": [
    "\n",
    "\n",
    "# Initialize NetworksLoader with the ensemble_manager instance\n",
    "networks_loader = NetworksLoader(ensemble_manager)\n",
    "for i, network_info in enumerate(networks_loader):\n",
    "    model = network_info.get('model').to(hp.DEVICE)\n",
    "    with torch.no_grad():\n",
    "        model_output = model(X).detach() # This will be (5, 1)\n",
    "    \n",
    "            # Set the slice of the new tensor\n",
    "        output_tensor[i, :, :] = model_output\n",
    "\n"
   ]
  },
  {
   "cell_type": "code",
   "execution_count": 9,
   "id": "e0aea692-83c3-48bb-b251-848e822ebd3c",
   "metadata": {},
   "outputs": [
    {
     "name": "stderr",
     "output_type": "stream",
     "text": [
      "/tmp/ipykernel_3014141/717829075.py:3: FutureWarning: You are using `torch.load` with `weights_only=False` (the current default value), which uses the default pickle module implicitly. It is possible to construct malicious pickle data which will execute arbitrary code during unpickling (See https://github.com/pytorch/pytorch/blob/main/SECURITY.md#untrusted-models for more details). In a future release, the default value for `weights_only` will be flipped to `True`. This limits the functions that could be executed during unpickling. Arbitrary objects will no longer be allowed to be loaded via this mode unless they are explicitly allowlisted by the user via `torch.serialization.add_safe_globals`. We recommend you start setting `weights_only=True` for any use case where you don't have full control of the loaded file. Please open an issue on GitHub for any issues related to this experimental feature.\n",
      "  teacher = torch.load(teacher_path)\n"
     ]
    }
   ],
   "source": [
    "ensemble_full_path = os.path.join(Menagerie_dir, ensemble_dir_name)\n",
    "teacher_path = os.path.join(ensemble_full_path, 'teacher_network.pth')\n",
    "teacher = torch.load(teacher_path)"
   ]
  },
  {
   "cell_type": "code",
   "execution_count": 10,
   "id": "4bc762c0-9cc3-45c0-9114-f7fd287bf30c",
   "metadata": {},
   "outputs": [
    {
     "data": {
      "text/plain": [
       "torch.Size([32, 15])"
      ]
     },
     "execution_count": 10,
     "metadata": {},
     "output_type": "execute_result"
    }
   ],
   "source": [
    "model.fc1.weight.shape"
   ]
  },
  {
   "cell_type": "markdown",
   "id": "50304cf8-ef14-488f-8244-05999345b8cb",
   "metadata": {},
   "source": [
    "Now that I have the teacher, I want to diagonalize the kernel in the basis of orthogonal eigenfunctions. "
   ]
  },
  {
   "cell_type": "code",
   "execution_count": 11,
   "id": "7673e3dc-f13d-44f1-9ed7-c0a58cffd5f9",
   "metadata": {},
   "outputs": [],
   "source": [
    "params = {}\n",
    "for name, param in teacher.named_parameters():\n",
    "    params[name] = param"
   ]
  },
  {
   "cell_type": "code",
   "execution_count": 12,
   "id": "477d7fa6-ecc0-4f6f-832c-0f24f1752e0b",
   "metadata": {},
   "outputs": [],
   "source": [
    "target = params['fc1.weight'].detach()\n"
   ]
  },
  {
   "cell_type": "code",
   "execution_count": 13,
   "id": "0b36d599-84d8-4efc-9dfe-d3e607ff136c",
   "metadata": {},
   "outputs": [
    {
     "data": {
      "text/plain": [
       "torch.Size([1, 15])"
      ]
     },
     "execution_count": 13,
     "metadata": {},
     "output_type": "execute_result"
    }
   ],
   "source": [
    "target.shape"
   ]
  },
  {
   "cell_type": "code",
   "execution_count": 14,
   "id": "d1b23720-5711-4d35-a251-4bc39b75206c",
   "metadata": {},
   "outputs": [],
   "source": [
    "\n",
    "def find_orthogonal_vectors_pytorch(v: torch.Tensor) -> torch.Tensor:\n",
    "    \"\"\"\n",
    "    Computes d-1 orthonormal vectors orthogonal to a given d-dimensional vector v.\n",
    "\n",
    "    Args:\n",
    "        v (torch.Tensor): A 1D PyTorch tensor representing the d-dimensional vector.\n",
    "\n",
    "    Returns:\n",
    "        torch.Tensor: A PyTorch tensor where each row is an orthonormal vector\n",
    "                      orthogonal to v.\n",
    "    \"\"\"\n",
    "    if v.ndim != 1: raise ValueError(\"Input vector must be 1-dimensional.\")\n",
    "    d = v.shape[0]\n",
    "    A = v.unsqueeze(0) # Reshape v to (1, d) matrix\n",
    "    _, _, Vh = torch.linalg.svd(A) # Perform SVD\n",
    "    return Vh[:, :] # Return the last d-1 rows of Vh (null space basis)\n"
   ]
  },
  {
   "cell_type": "code",
   "execution_count": 15,
   "id": "f2424e46-dc57-4d12-8e39-ce0ba90afb87",
   "metadata": {},
   "outputs": [
    {
     "data": {
      "text/plain": [
       "torch.Size([1, 15])"
      ]
     },
     "execution_count": 15,
     "metadata": {},
     "output_type": "execute_result"
    }
   ],
   "source": [
    "target.squeeze().unsqueeze(0).shape"
   ]
  },
  {
   "cell_type": "code",
   "execution_count": 16,
   "id": "ef3b3d04-7e15-4ee1-9a50-62d785b442ba",
   "metadata": {},
   "outputs": [
    {
     "data": {
      "text/plain": [
       "tensor([[ 0.6358,  0.5875, -0.5906,  1.6123,  0.7664, -1.6740, -0.1810, -0.3411,\n",
       "         -0.5869,  1.8676, -0.2222, -0.5791, -0.0048,  1.6108,  0.6057]],\n",
       "       device='cuda:0')"
      ]
     },
     "execution_count": 16,
     "metadata": {},
     "output_type": "execute_result"
    }
   ],
   "source": [
    "target"
   ]
  },
  {
   "cell_type": "code",
   "execution_count": 17,
   "id": "2f29ad7e-e8c2-4d77-b170-73a118396a92",
   "metadata": {
    "scrolled": true
   },
   "outputs": [
    {
     "name": "stdout",
     "output_type": "stream",
     "text": [
      "Original vector v: tensor([ 0.6358,  0.5875, -0.5906,  1.6123,  0.7664, -1.6740, -0.1810, -0.3411,\n",
      "        -0.5869,  1.8676, -0.2222, -0.5791, -0.0048,  1.6108,  0.6057],\n",
      "       device='cuda:0')\n",
      "Original vector v shape: torch.Size([15])\n",
      "\n",
      "Manually normalized vector (v / ||v||): tensor([ 0.1675,  0.1547, -0.1556,  0.4247,  0.2018, -0.4409, -0.0477, -0.0898,\n",
      "        -0.1546,  0.4919, -0.0585, -0.1525, -0.0013,  0.4243,  0.1595],\n",
      "       device='cuda:0')\n",
      "Matrix A for SVD (v.unsqueeze(0)): tensor([[ 0.6358,  0.5875, -0.5906,  1.6123,  0.7664, -1.6740, -0.1810, -0.3411,\n",
      "         -0.5869,  1.8676, -0.2222, -0.5791, -0.0048,  1.6108,  0.6057]],\n",
      "       device='cuda:0')\n",
      "\n",
      "Vh matrix from SVD:\n",
      "tensor([[-1.6746e-01, -1.5473e-01,  1.5555e-01, -4.2465e-01, -2.0185e-01,\n",
      "          4.4090e-01,  4.7680e-02,  8.9838e-02,  1.5457e-01, -4.9190e-01,\n",
      "          5.8533e-02,  1.5253e-01,  1.2609e-03, -4.2427e-01, -1.5954e-01],\n",
      "        [-1.5473e-01,  9.7949e-01,  2.0616e-02, -5.6282e-02, -2.6752e-02,\n",
      "          5.8436e-02,  6.3192e-03,  1.1907e-02,  2.0486e-02, -6.5194e-02,\n",
      "          7.7578e-03,  2.0216e-02,  1.6712e-04, -5.6230e-02, -2.1145e-02],\n",
      "        [ 1.5555e-01,  2.0616e-02,  9.7927e-01,  5.6581e-02,  2.6895e-02,\n",
      "         -5.8746e-02, -6.3529e-03, -1.1970e-02, -2.0595e-02,  6.5541e-02,\n",
      "         -7.7990e-03, -2.0323e-02, -1.6801e-04,  5.6530e-02,  2.1258e-02],\n",
      "        [-4.2465e-01, -5.6282e-02,  5.6581e-02,  8.4554e-01, -7.3421e-02,\n",
      "          1.6037e-01,  1.7343e-02,  3.2678e-02,  5.6222e-02, -1.7892e-01,\n",
      "          2.1291e-02,  5.5481e-02,  4.5865e-04, -1.5432e-01, -5.8032e-02],\n",
      "        [-2.0185e-01, -2.6752e-02,  2.6895e-02, -7.3421e-02,  9.6510e-01,\n",
      "          7.6230e-02,  8.2436e-03,  1.5533e-02,  2.6724e-02, -8.5047e-02,\n",
      "          1.0120e-02,  2.6372e-02,  2.1801e-04, -7.3354e-02, -2.7584e-02],\n",
      "        [ 4.4090e-01,  5.8436e-02, -5.8746e-02,  1.6037e-01,  7.6230e-02,\n",
      "          8.3349e-01, -1.8007e-02, -3.3928e-02, -5.8374e-02,  1.8577e-01,\n",
      "         -2.2106e-02, -5.7604e-02, -4.7620e-04,  1.6023e-01,  6.0253e-02],\n",
      "        [ 4.7680e-02,  6.3192e-03, -6.3529e-03,  1.7343e-02,  8.2436e-03,\n",
      "         -1.8007e-02,  9.9805e-01, -3.6690e-03, -6.3126e-03,  2.0089e-02,\n",
      "         -2.3905e-03, -6.2293e-03, -5.1497e-05,  1.7327e-02,  6.5157e-03],\n",
      "        [ 8.9838e-02,  1.1907e-02, -1.1970e-02,  3.2678e-02,  1.5533e-02,\n",
      "         -3.3928e-02, -3.6690e-03,  9.9309e-01, -1.1894e-02,  3.7852e-02,\n",
      "         -4.5042e-03, -1.1737e-02, -9.7030e-05,  3.2648e-02,  1.2277e-02],\n",
      "        [ 1.5457e-01,  2.0486e-02, -2.0595e-02,  5.6222e-02,  2.6724e-02,\n",
      "         -5.8374e-02, -6.3126e-03, -1.1894e-02,  9.7954e-01,  6.5125e-02,\n",
      "         -7.7496e-03, -2.0194e-02, -1.6694e-04,  5.6171e-02,  2.1123e-02],\n",
      "        [-4.9190e-01, -6.5194e-02,  6.5541e-02, -1.7892e-01, -8.5047e-02,\n",
      "          1.8577e-01,  2.0089e-02,  3.7852e-02,  6.5125e-02,  7.9274e-01,\n",
      "          2.4662e-02,  6.4267e-02,  5.3128e-04, -1.7876e-01, -6.7221e-02],\n",
      "        [ 5.8533e-02,  7.7578e-03, -7.7990e-03,  2.1291e-02,  1.0120e-02,\n",
      "         -2.2106e-02, -2.3905e-03, -4.5042e-03, -7.7496e-03,  2.4662e-02,\n",
      "          9.9707e-01, -7.6474e-03, -6.3219e-05,  2.1272e-02,  7.9990e-03],\n",
      "        [ 1.5253e-01,  2.0216e-02, -2.0323e-02,  5.5481e-02,  2.6372e-02,\n",
      "         -5.7604e-02, -6.2293e-03, -1.1737e-02, -2.0194e-02,  6.4267e-02,\n",
      "         -7.6474e-03,  9.8007e-01, -1.6474e-04,  5.5430e-02,  2.0844e-02],\n",
      "        [ 1.2609e-03,  1.6712e-04, -1.6801e-04,  4.5865e-04,  2.1801e-04,\n",
      "         -4.7620e-04, -5.1497e-05, -9.7030e-05, -1.6694e-04,  5.3128e-04,\n",
      "         -6.3219e-05, -1.6474e-04,  1.0000e+00,  4.5823e-04,  1.7231e-04],\n",
      "        [-4.2427e-01, -5.6230e-02,  5.6530e-02, -1.5432e-01, -7.3354e-02,\n",
      "          1.6023e-01,  1.7327e-02,  3.2648e-02,  5.6171e-02, -1.7876e-01,\n",
      "          2.1272e-02,  5.5430e-02,  4.5823e-04,  8.4582e-01, -5.7979e-02],\n",
      "        [-1.5954e-01, -2.1145e-02,  2.1258e-02, -5.8032e-02, -2.7584e-02,\n",
      "          6.0253e-02,  6.5157e-03,  1.2277e-02,  2.1123e-02, -6.7221e-02,\n",
      "          7.9990e-03,  2.0844e-02,  1.7231e-04, -5.7979e-02,  9.7820e-01]],\n",
      "       device='cuda:0')\n",
      "\n",
      "First row of Vh: tensor([-0.1675, -0.1547,  0.1556, -0.4247, -0.2018,  0.4409,  0.0477,  0.0898,\n",
      "         0.1546, -0.4919,  0.0585,  0.1525,  0.0013, -0.4243, -0.1595],\n",
      "       device='cuda:0')\n",
      "\n",
      "Verification: The manually normalized vector IS EQUAL to the first row of Vh (with a sign flip).\n",
      "This is normal due to SVD's ambiguity in sign convention.\n",
      "--------------------------------------------------\n"
     ]
    }
   ],
   "source": [
    "import torch\n",
    "\n",
    "def verify_normalized_target_in_svd(v: torch.Tensor):\n",
    "    \"\"\"\n",
    "    Computes the normalized target vector and verifies it matches\n",
    "    the first row of the Vh matrix from SVD.\n",
    "\n",
    "    Args:\n",
    "        v (torch.Tensor): A 1D PyTorch tensor representing the d-dimensional vector.\n",
    "    \"\"\"\n",
    "    if v.ndim != 1:\n",
    "        raise ValueError(\"Input vector must be 1-dimensional.\")\n",
    "\n",
    "    print(f\"Original vector v: {v}\")\n",
    "    print(f\"Original vector v shape: {v.shape}\")\n",
    "\n",
    "    # 1. Manually compute the normalized target vector\n",
    "    norm_v = torch.linalg.norm(v)\n",
    "    normalized_v = v / norm_v\n",
    "    print(f\"\\nManually normalized vector (v / ||v||): {normalized_v}\")\n",
    "\n",
    "    # 2. Perform SVD on the reshaped vector\n",
    "    A = v.unsqueeze(0) # Reshape v to (1, d) matrix\n",
    "    print(f\"Matrix A for SVD (v.unsqueeze(0)): {A}\")\n",
    "\n",
    "    _, _, Vh = torch.linalg.svd(A)\n",
    "    print(f\"\\nVh matrix from SVD:\\n{Vh}\")\n",
    "\n",
    "    # 3. Extract the first row from Vh\n",
    "    first_row_Vh = Vh[0, :]\n",
    "    print(f\"\\nFirst row of Vh: {first_row_Vh}\")\n",
    "\n",
    "    # 4. Compare the manually normalized vector with the first row of Vh\n",
    "    # Use torch.isclose for robust comparison due to floating-point precision\n",
    "    are_they_equal = torch.isclose(normalized_v, first_row_Vh, atol=1e-6)\n",
    "    \n",
    "    # Handle the potential sign flip in SVD\n",
    "    # SVD's sign convention for singular vectors is not unique.\n",
    "    # The vector could be normalized_v or -normalized_v.\n",
    "    are_they_equal_flipped_sign = torch.isclose(normalized_v, -first_row_Vh, atol=1e-6)\n",
    "\n",
    "    if are_they_equal.all():\n",
    "        print(\"\\nVerification: The manually normalized vector IS EQUAL to the first row of Vh.\")\n",
    "    elif are_they_equal_flipped_sign.all():\n",
    "        print(\"\\nVerification: The manually normalized vector IS EQUAL to the first row of Vh (with a sign flip).\")\n",
    "        print(\"This is normal due to SVD's ambiguity in sign convention.\")\n",
    "    else:\n",
    "        print(\"\\nVerification: Mismatch detected! (This should not happen if the logic is correct)\")\n",
    "\n",
    "# Example Usage:\n",
    "v1 = target.squeeze()\n",
    "verify_normalized_target_in_svd(v1)\n",
    "\n",
    "print(\"-\" * 50)"
   ]
  },
  {
   "cell_type": "code",
   "execution_count": 18,
   "id": "06618c0d-3eb3-443b-aacd-24d02e77d9b6",
   "metadata": {},
   "outputs": [],
   "source": [
    "from FCN3 import HypersphereData\n",
    "W = find_orthogonal_vectors_pytorch(target.squeeze()).to(hp.DEVICE)\n",
    "P = 200\n",
    "y  = X[:P] @ W\n",
    "y = y / torch.linalg.norm(y, dim=0).unsqueeze(0)"
   ]
  },
  {
   "cell_type": "code",
   "execution_count": 19,
   "id": "a3348720-a307-4f76-ba95-94db334f0396",
   "metadata": {},
   "outputs": [],
   "source": [
    "y  = X[:P] @ W\n",
    "y = y / torch.linalg.norm(y, dim=0).unsqueeze(0)"
   ]
  },
  {
   "cell_type": "code",
   "execution_count": 20,
   "id": "00791a15-38a1-4b67-a653-08511d24995c",
   "metadata": {},
   "outputs": [
    {
     "name": "stdout",
     "output_type": "stream",
     "text": [
      "torch.Size([1000])\n",
      "Column: torch.Size([1000, 1]), Row: torch.Size([1, 1000])\n",
      "Mean outer product: torch.Size([1000, 1000])\n"
     ]
    }
   ],
   "source": [
    "means_over_networks = output_tensor.mean(dim=0, keepdim=True).squeeze()\n",
    "print(means_over_networks.shape)\n",
    "column_vectors = means_over_networks.unsqueeze(-1) # Adds a dimension at the end: (3, 1, 10, 1)\n",
    "row_vectors = means_over_networks.unsqueeze(-2)    # Adds a dimension before the last: (3, 1, 1, 10)\n",
    "print(f'Column: {column_vectors.shape}, Row: {row_vectors.shape}')\n",
    "mean_outer_product = (column_vectors @ row_vectors).squeeze()\n",
    "print(f'Mean outer product: {mean_outer_product.shape}')\n",
    "\n",
    "vectors_squeezed = output_tensor.squeeze(-1) # Shape: (3, 20, 10)\n",
    "column_vectors = vectors_squeezed.unsqueeze(-1) # Shape: (3, 20, 10, 1)\n",
    "row_vectors = vectors_squeezed.unsqueeze(-2)    # Shape: (3, 20, 1, 10)\n",
    "outer_product_matrices = column_vectors @ row_vectors\n",
    "averaged_outer_products = outer_product_matrices.mean(dim=0)\n",
    "\n",
    "cov = (averaged_outer_products - mean_outer_product)"
   ]
  },
  {
   "cell_type": "code",
   "execution_count": 21,
   "id": "bdbceaa1-1b96-4cb7-b993-fa77bc885a39",
   "metadata": {
    "scrolled": true
   },
   "outputs": [],
   "source": [
    "cov = torch.cov(output_tensor[:20,:P].squeeze().T)"
   ]
  },
  {
   "cell_type": "code",
   "execution_count": 22,
   "id": "3eb04f1b-3948-4e0b-8e95-ce3b7d576b96",
   "metadata": {},
   "outputs": [],
   "source": [
    "0\n",
    "# Get the variances (diagonal elements of the covariance matrix)\n",
    "variances = torch.diag(cov)\n",
    "\n",
    "# Get the standard deviations (square root of the variances)\n",
    "std_devs = torch.sqrt(variances)\n",
    "\n",
    "# Add a small epsilon to standard deviations to prevent division by zero,\n",
    "# especially if a variable has zero variance (e.g., all data points are identical)\n",
    "epsilon = 1e-8\n",
    "std_devs_safe = std_devs + epsilon\n",
    "\n",
    "# Create a diagonal matrix with 1 / (standard deviation) on its diagonal.\n",
    "# This matrix will be used to scale the covariance matrix.\n",
    "inv_std_devs_diag_matrix = torch.diag(1.0 / std_devs_safe)\n",
    "\n",
    "# Compute the correlation matrix using matrix multiplication:\n",
    "# R = D_inv @ C @ D_inv\n",
    "# where D_inv is the diagonal matrix of inverse standard deviations, and C is the covariance matrix.\n",
    "correlation_matrix = inv_std_devs_diag_matrix @ cov @ inv_std_devs_diag_matrix"
   ]
  },
  {
   "cell_type": "code",
   "execution_count": 23,
   "id": "abda536a-c659-4705-b7a3-ff5109efb7c4",
   "metadata": {},
   "outputs": [],
   "source": [
    "eigvals_matrix = (y.T @ cov @ y )\n"
   ]
  },
  {
   "cell_type": "code",
   "execution_count": 24,
   "id": "93f2e5b8-da32-45f0-8a9a-8386909ec236",
   "metadata": {},
   "outputs": [],
   "source": [
    "c = (y.T @ y)"
   ]
  },
  {
   "cell_type": "code",
   "execution_count": 25,
   "id": "39b9b0a1-756a-47ac-9baa-9732f2beb6c0",
   "metadata": {},
   "outputs": [
    {
     "data": {
      "text/plain": [
       "torch.Size([15, 15])"
      ]
     },
     "execution_count": 25,
     "metadata": {},
     "output_type": "execute_result"
    }
   ],
   "source": [
    "c.shape"
   ]
  },
  {
   "cell_type": "code",
   "execution_count": 29,
   "id": "55297abe-eda3-46f0-846c-7f62d169ec21",
   "metadata": {},
   "outputs": [
    {
     "data": {
      "image/png": "[encoded data removed]",
      "text/plain": [
       "<Figure size 700x600 with 2 Axes>"
      ]
     },
     "metadata": {},
     "output_type": "display_data"
    }
   ],
   "source": [
    "import numpy as np\n",
    "import matplotlib.pyplot as plt\n",
    "\n",
    "\"\"\"\n",
    "Plots a heatmap of a diagonalized matrix using only matplotlib.\n",
    "\n",
    "Args:\n",
    "    eigvals_matrix (np.ndarray): A 2D NumPy array representing the diagonalized matrix.\n",
    "                                 Expected to be predominantly zeros off-diagonal.\n",
    "\"\"\"\n",
    "if eigvals_matrix.ndim != 2:\n",
    "    raise ValueError(\"Input matrix must be 2-dimensional.\")\n",
    "\n",
    "plt.figure(figsize=(7, 6))\n",
    "\n",
    "# Use imshow to create the heatmap\n",
    "# cmap: 'viridis' (or 'plasma', 'magma', 'hot', 'gray', etc.) for color scheme\n",
    "# interpolation: 'nearest' for sharp pixels, 'bilinear' for smoother\n",
    "# origin: 'upper' (default) places (0,0) at top-left, typical for matrices\n",
    "im = plt.imshow(eigvals_matrix , cmap='plasma', interpolation='nearest')\n",
    "\n",
    "# Add a color bar to indicate the mapping of values to colors\n",
    "plt.colorbar(im, label='Value')\n",
    "\n",
    "plt.title('Heatmap of Diagonalized Matrix')\n",
    "plt.xlabel('Column Index')\n",
    "plt.ylabel('Row Index')\n",
    "\n",
    "# Optionally, add grid lines for better visibility of cells\n",
    "plt.grid(True, which='both', color='gray', linestyle='-', linewidth=0.5)\n",
    "plt.xticks(np.arange(eigvals_matrix.shape[1])) # Ensure ticks for each column\n",
    "plt.yticks(np.arange(eigvals_matrix.shape[0])) # Ensure ticks for each row\n",
    "\n",
    "plt.show()\n"
   ]
  },
  {
   "cell_type": "code",
   "execution_count": 27,
   "id": "5c5778ea-829d-4f19-8876-352b7bff7f64",
   "metadata": {},
   "outputs": [],
   "source": [
    "lK = torch.diag(eigvals_matrix)\n",
    "c = (0.0015) / (32) \n",
    "lH = (0.0015 )  * lK / (c - lK)"
   ]
  },
  {
   "cell_type": "code",
   "execution_count": 28,
   "id": "c83b0873-3b87-4464-814c-a1f7b585f816",
   "metadata": {},
   "outputs": [
    {
     "data": {
      "text/plain": [
       "tensor(-1.8907e-08)"
      ]
     },
     "execution_count": 28,
     "metadata": {},
     "output_type": "execute_result"
    }
   ],
   "source": [
    "torch.mean(eigvals_matrix - (torch.eye(15,15) * torch.diagonal(eigvals_matrix)) )"
   ]
  },
  {
   "cell_type": "code",
   "execution_count": 226,
   "id": "0f2e4634-7218-4169-8710-0148a184eff6",
   "metadata": {},
   "outputs": [
    {
     "data": {
      "text/plain": [
       "<matplotlib.collections.PathCollection at 0x7f32a00fcee0>"
      ]
     },
     "execution_count": 226,
     "metadata": {},
     "output_type": "execute_result"
    },
    {
     "data": {
      "image/png": "[encoded data removed]",
      "text/plain": [
       "<Figure size 640x480 with 1 Axes>"
      ]
     },
     "metadata": {},
     "output_type": "display_data"
    }
   ],
   "source": [
    "plt.scatter(range(15), torch.diag(eigvals_matrix))"
   ]
  },
  {
   "cell_type": "code",
   "execution_count": 153,
   "id": "dc348719-1cfa-440e-8e9c-763c91f1f386",
   "metadata": {},
   "outputs": [
    {
     "data": {
      "text/plain": [
       "<matplotlib.collections.PathCollection at 0x7f32a01041f0>"
      ]
     },
     "execution_count": 153,
     "metadata": {},
     "output_type": "execute_result"
    },
    {
     "data": {
      "image/png": "[encoded data removed]",
      "text/plain": [
       "<Figure size 640x480 with 1 Axes>"
      ]
     },
     "metadata": {},
     "output_type": "display_data"
    }
   ],
   "source": [
    "plt.scatter(range(15), lH)"
   ]
  },
  {
   "cell_type": "code",
   "execution_count": 227,
   "id": "26079789-f164-478e-8a84-eb8be6f509f3",
   "metadata": {},
   "outputs": [],
   "source": [
    "a = torch.mean(lK[1:])"
   ]
  },
  {
   "cell_type": "code",
   "execution_count": 228,
   "id": "4ef092ec-450b-40f3-936a-6543ec919eba",
   "metadata": {},
   "outputs": [
    {
     "data": {
      "text/plain": [
       "tensor(4.5080)"
      ]
     },
     "execution_count": 228,
     "metadata": {},
     "output_type": "execute_result"
    }
   ],
   "source": [
    "lK[0] / a"
   ]
  },
  {
   "cell_type": "code",
   "execution_count": 251,
   "id": "6dcc3024-4bdb-479c-b5f6-ece51e60d4e3",
   "metadata": {},
   "outputs": [
    {
     "name": "stdout",
     "output_type": "stream",
     "text": [
      "kappa/p = \n",
      "0.0033333333333333335\n",
      "No solution found or convergence issues: The iteration is not making good progress, as measured by the \n",
      "  improvement from the last ten iterations.\n",
      "-----<<((Eigenvalue Solver))>>-----\n",
      "Solution found:\n",
      "lKp = 0.0000028575\n",
      "lKhp = -42825.7067181327\n",
      "lHp = 0.0200171278\n",
      "lHhp = 0.0428624204\n",
      "lJp = 0.0199999829\n",
      "-------------\n",
      "lHhT = 45.23168905120898\n",
      "Kappa / P = 0.0033333333333333335\n",
      "Absolute difference of covariance eigenvalues:  0.000000257343597\n",
      "Kernel Target-Perp Ratio:  1.090059248992121\n",
      "\n",
      "Eigenvalues (from eigenvalue_solver):\n",
      "Cov KT = 3.11483574436e-06\n",
      "lHT = 0.0475189949\n",
      "lHhT = 45.2316894179\n",
      "lJT = 0.0231914441\n",
      "Cov_Kp = 2.85749214755e-06\n",
      "lHp = 0.0200171278\n",
      "lHhp = 0.0428624204\n",
      "lJp = 0.0199999829\n"
     ]
    }
   ],
   "source": [
    "import numpy as np\n",
    "from scipy.optimize import fsolve, root\n",
    "\n",
    "def eigenvalue_solver_alternative(params):\n",
    "    P, k, d, sigma2, N0, N1, chi = params\n",
    "    initial_guess = np.ones(10) * 1.1 # Initial guess for the eigenvalues\n",
    "\n",
    "\n",
    "\n",
    "\n",
    "    def eqs(vals):\n",
    "        lKT, lKhT, lHT, lHhT, lJT, lKp, lKhp, lHp, lHhp, lJp = vals\n",
    "        c1 = (k/(chi*P))\n",
    "        c2 = (lHT)/(lHT + k/P)\n",
    "        c3 = c1*c2\n",
    "        sigma2_f = c3\n",
    "        mean2_f = c2**2\n",
    "        equations = [\n",
    "            -lKT + sigma2_f + mean2_f,\n",
    "            -chi/lHT + chi**2 * lKT/lHT**2 - chi**2 * (lHT + k/P)**-2 - lKhT,\n",
    "            sigma2*(1/chi * sigma2/N1*lKT + lJT**-1)**-1           - lHT,\n",
    "            N1*(-lJT**-1 + sigma2**-1 * lJT**-2 * lHT)              -lHhT,\n",
    "            1/(lHT*sigma2/N0 + d/sigma2)                           - lJT, \n",
    "            k/(chi*P) * lHp / (lHp + k/P) -                        - lKp,\n",
    "            -chi/lHp + chi**2 * lKp/lHp**2                        -  lKhp,\n",
    "            sigma2*(1/chi * sigma2/N1*lKp + lJp**-1)**-1          -  lHp,\n",
    "            N1*(-lJp**-1 + 1/sigma2 * lJp**-2 * lHp)               - lHhp,\n",
    "            1/(lHhp * sigma2 / N0 + d/sigma2)                      - lJp\n",
    "        ]\n",
    "        return np.array(equations)\n",
    "\n",
    "    sol = root(eqs, initial_guess, method='lm') # Using the Levenberg-Marquardt algorithm\n",
    "    if sol.success:\n",
    "        return sol.x\n",
    "    else:\n",
    "        print(f\"Alternative solver failed: {sol.message}\")\n",
    "        return None\n",
    "\n",
    "def eigenvalue_solver(params):\n",
    "    P, k, d, sigma2, N0, N1, chi = params\n",
    "    initial_guess = np.ones(5) * 0.1 # Initial guess for the eigenvalues\n",
    "    \"\"\"Solves the eigenvalue equations for the empirical kernels.\"\"\"\n",
    "    # This line unpacks the values from the tuple\n",
    "    # l is a shorthand for lambda\n",
    "    # the next letter is the kernel type.\n",
    "    # the kernel type is suffixed by h if it is a helper kernel\n",
    "    # the final letter, T or p signifies whether the eigenvalue is for the target or the perpendicular kernel\n",
    "    varnamesT = ['lKT', 'lKhT', 'lHT', 'lHhT', 'lJT']\n",
    "    varnamesp = ['lKp', 'lKhp', 'lHp', 'lHhp', 'lJp']\n",
    "\n",
    "    def eqsp(vals):\n",
    "        lKp, lKhp, lHp, lHhp, lJp = vals\n",
    "        equations = [\n",
    "            k/(chi*P) * lHp / (lHp + k/P)                           - lKp,\n",
    "            -chi/lHp + chi**2 * lKp/lHp**2                          - lKhp,\n",
    "            sigma2*((1/chi) * (sigma2/N1)*lKhp + lJp**-1)**-1       - lHp,\n",
    "            (-1.0/lJp + 1.0/sigma2 * lHp/(lJp**2))               - lHhp,\n",
    "            1/(lHhp * sigma2 / N0 + d/sigma2)                       - lJp\n",
    "        ]\n",
    "\n",
    "        return np.array(equations)\n",
    "    def eqsT(vals):\n",
    "        lKT, lKhT, lHT, lHhT, lJT= vals\n",
    "\n",
    "        equations = [\n",
    "            (k/(chi*P))*(lHT)/(lHT + k/P) + (lHT/(lHT+k/P))**2      - lKT,\n",
    "            -chi/lHT + chi**2 * (lKT/(lHT**2) - (lHT + k/P)**-2)    - lKhT,\n",
    "            sigma2*((1/chi) * (sigma2/N1)*lKhT + lJT**-1)**-1       - lHT,\n",
    "            (-1.0/lJT + 1.0/sigma2 * lHT/(lJT**2))               - lHhT,\n",
    "            1/(lHhT*(sigma2**2)/N0 + d/sigma2)                      - lJT, \n",
    "        ]\n",
    "\n",
    "        return np.array(equations)\n",
    "\n",
    "    solutionT, infodictT, ierT, mesgT = fsolve(eqsT, initial_guess, full_output=True)\n",
    "    solutionp, infodictp, ierp, mesgp = fsolve(eqsp, initial_guess, full_output=True)\n",
    "\n",
    "    if ierT == 1:\n",
    "        print(\"-----<<((Eigenvalue Solver))>>-----\")\n",
    "        print(\"Solution found:\")\n",
    "        # Prints out each variable name and its corresponding value\n",
    "        for varname, value in zip(varnamesT, solutionT):\n",
    "            print(f\"{varname} = {value:.10f}\")\n",
    "    else:\n",
    "        print(f\"No solution found or convergence issues: {mesgT}\")\n",
    "\n",
    "    if ierp == 1:\n",
    "        print(\"-----<<((Eigenvalue Solver))>>-----\")\n",
    "        print(\"Solution found:\")\n",
    "        # Prints out each variable name and its corresponding value\n",
    "        for varname, value in zip(varnamesp, solutionp):\n",
    "            print(f\"{varname} = {value:.10f}\")\n",
    "    else:\n",
    "        print(f\"No solution found or convergence issues: {mesgp}\")\n",
    "    return solutionT, solutionp\n",
    "\n",
    "# Using ens.eigenvalue_solver to solve the analytical eigenvalues\n",
    "# Assuming 'standard_hyperparams' and 'eos_solvers' would be imported\n",
    "# if this were part of a larger project.\n",
    "# For this standalone file, we'll define the parameters directly.\n",
    "\n",
    "d: int = 50\n",
    "N0 = 1000\n",
    "N1 = 1000\n",
    "T = 1.0\n",
    "\n",
    "kappa = 1.0\n",
    "P: int = 300\n",
    "sigma2 = 1.0\n",
    "\n",
    "chi =N1\n",
    "print(\"kappa/p = \") \n",
    "print(kappa/P)\n",
    "solver_params = [P, kappa, d, sigma2, N0, N1, chi]\n",
    "solution = eigenvalue_solver(solver_params)\n",
    "print(\"-------------\")\n",
    "if solution is not None:\n",
    "    lKT, lKhT, lHT, lHhT, lJT = solution[0]\n",
    "    lKp, lKhp, lHp, lHhp, lJp = solution[1]\n",
    "    print(f\"lHhT = {-1.0/lJT + 1.0/sigma2 * lHT/(lJT**2)}\")\n",
    "\n",
    "    Cov_KT = kappa/(chi * P) * (lHT)/( lHT + kappa/P)\n",
    "    Cov_KhT = - chi / lHT + chi**2 * (lKT / lHT**2)\n",
    "\n",
    "    Cov_Kp = kappa/(chi * P) * (lHp)/( lHp + kappa/P)\n",
    "    print(f\"Kappa / P = {kappa/P}\")\n",
    "    # WHEN KAPPA/P IS SMALL, THEN THE COVARIANCES ARE NEARLY EXACTLY EQUAL TO ONE ANOTHER\n",
    "    # The no feature learning being tracked down to the helper fields might be due to \n",
    "    # my mixing up covariances and second moments\n",
    "    Cov_Khp = - chi / lHp + chi**2 * (lKp / lHp**2)\n",
    "    print(f\"Absolute difference of covariance eigenvalues: {Cov_KT - Cov_Kp: .15f}\")\n",
    "    print(f\"Kernel Target-Perp Ratio: {Cov_KT/Cov_Kp: .15f}\")\n",
    "    print(\"\\nEigenvalues (from eigenvalue_solver):\")\n",
    "    print(f\"Cov KT = {Cov_KT:.12}\")\n",
    "    print(f\"lHT = {lHT:.10f}\")\n",
    "    print(f\"lHhT = {lHhT:.10f}\")\n",
    "    print(f\"lJT = {lJT:.10f}\")\n",
    "    print(f\"Cov_Kp = {Cov_Kp:.12}\")\n",
    "    print(f\"lHp = {lHp:.10f}\")\n",
    "    print(f\"lHhp = {lHhp:.10f}\")\n",
    "    print(f\"lJp = {lJp:.10f}\")"
   ]
  },
  {
   "cell_type": "markdown",
   "id": "bdb3bd21-2210-4a9a-9ac1-8a426647f893",
   "metadata": {},
   "source": [
    "## Major Problem\n",
    "\n",
    "My theory predicts only _very slight_ feature learning, if any at all (in the low figures, likely numerical error). However my experiments do in fact show feature alignment.\n",
    "\n",
    "**Possibilities** (1) I am misidentifying feature alignment in my data. (2) My calculation of eigenvalues is _wrong_ (3) My equations are _wrong_"
   ]
  },
  {
   "cell_type": "code",
   "execution_count": null,
   "id": "ee5aea7a-82fb-4848-b86a-44321dfac662",
   "metadata": {},
   "outputs": [],
   "source": []
  }
 ],
 "metadata": {
  "kernelspec": {
   "display_name": "Python 3 (ipykernel)",
   "language": "python",
   "name": "python3"
  },
  "language_info": {
   "codemirror_mode": {
    "name": "ipython",
    "version": 3
   },
   "file_extension": ".py",
   "mimetype": "text/x-python",
   "name": "python",
   "nbconvert_exporter": "python",
   "pygments_lexer": "ipython3",
   "version": "3.8.10"
  }
 },
 "nbformat": 4,
 "nbformat_minor": 5
}
