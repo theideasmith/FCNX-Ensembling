{
 "cells": [
  {
   "cell_type": "code",
   "execution_count": 3,
   "id": "cfa158a3",
   "metadata": {},
   "outputs": [
    {
     "name": "stdout",
     "output_type": "stream",
     "text": [
      "Number of GPUs available: 2\n",
      "GPU 0: NVIDIA GeForce RTX 4090\n",
      "  Total Memory: 24217.31 MiB\n",
      "  Allocated Memory: 0.00 MiB\n",
      "  Available Memory: 24217.31 MiB\n",
      "GPU 1: NVIDIA GeForce RTX 4080\n",
      "  Total Memory: 16076.88 MiB\n",
      "  Allocated Memory: 0.00 MiB\n",
      "  Available Memory: 16076.88 MiB\n"
     ]
    }
   ],
   "source": [
    "import torch\n",
    "\n",
    "def show_gpu_info():\n",
    "    if not torch.cuda.is_available():\n",
    "        print(\"No GPU available.\")\n",
    "        return\n",
    "\n",
    "    num_gpus = torch.cuda.device_count()\n",
    "    print(f\"Number of GPUs available: {num_gpus}\")\n",
    "\n",
    "    for i in range(num_gpus):\n",
    "        gpu_name = torch.cuda.get_device_name(i)\n",
    "        # Get total and used memory\n",
    "        total_memory = torch.cuda.get_device_properties(i).total_memory / 1024**2  # Convert to MiB\n",
    "        allocated_memory = torch.cuda.memory_allocated(i) / 1024**2  # Convert to MiB\n",
    "        available_memory = total_memory - allocated_memory\n",
    "\n",
    "        print(f\"GPU {i}: {gpu_name}\")\n",
    "        print(f\"  Total Memory: {total_memory:.2f} MiB\")\n",
    "        print(f\"  Allocated Memory: {allocated_memory:.2f} MiB\")\n",
    "        print(f\"  Available Memory: {available_memory:.2f} MiB\")\n",
    "\n",
    "# Run the function\n",
    "show_gpu_info()"
   ]
  },
  {
   "cell_type": "code",
   "execution_count": 10,
   "id": "5b5c2d3e",
   "metadata": {},
   "outputs": [
    {
     "name": "stdout",
     "output_type": "stream",
     "text": [
      "Total Memory: 15.99 GB\n",
      "Free Memory: 2.55 GB\n",
      "Used Memory: 13.44 GB\n"
     ]
    }
   ],
   "source": [
    "from pynvml import *\n",
    "nvmlInit()\n",
    "h = nvmlDeviceGetHandleByIndex(0)\n",
    "info = nvmlDeviceGetMemoryInfo(h)\n",
    "print(f\"Total Memory: {info.total / 1024**3:.2f} GB\")\n",
    "print(f\"Free Memory: {info.free / 1024**3:.2f} GB\")\n",
    "print(f\"Used Memory: {info.used / 1024**3:.2f} GB\")\n",
    "nvmlShutdown()"
   ]
  },
  {
   "cell_type": "code",
   "execution_count": 9,
   "id": "fe281431",
   "metadata": {},
   "outputs": [
    {
     "name": "stdout",
     "output_type": "stream",
     "text": [
      "Using GPU 1: NVIDIA GeForce RTX 4080\n"
     ]
    }
   ],
   "source": [
    "# Verify GPU name for device 1\n",
    "gpu_name = torch.cuda.get_device_name(1)\n",
    "print(f\"Using GPU 1: {gpu_name}\")\n",
    "\n",
    "# Set device to cuda:1\n",
    "device = torch.device(\"cuda:1\" if torch.cuda.is_available() else \"cpu\")"
   ]
  },
  {
   "cell_type": "code",
   "execution_count": null,
   "id": "c2c27881",
   "metadata": {},
   "outputs": [],
   "source": [
    "total_memory = torch.cuda.get_device_properties(i).total_memory / 1024**2  # Convert to MiB\n"
   ]
  }
 ],
 "metadata": {
  "kernelspec": {
   "display_name": "ml_env",
   "language": "python",
   "name": "python3"
  },
  "language_info": {
   "codemirror_mode": {
    "name": "ipython",
    "version": 3
   },
   "file_extension": ".py",
   "mimetype": "text/x-python",
   "name": "python",
   "nbconvert_exporter": "python",
   "pygments_lexer": "ipython3",
   "version": "3.11.12"
  }
 },
 "nbformat": 4,
 "nbformat_minor": 5
}
